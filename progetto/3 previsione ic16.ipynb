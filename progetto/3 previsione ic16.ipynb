{
 "cells": [
  {
   "cell_type": "code",
   "execution_count": null,
   "metadata": {},
   "outputs": [],
   "source": [
    "# valutazione performance dei modelli nel calcolo dell' iC16"
   ]
  },
  {
   "cell_type": "code",
   "execution_count": null,
   "metadata": {},
   "outputs": [],
   "source": [
    "import funzioni\n",
    "from funzioni import *\n",
    "\n",
    "import settings\n",
    "from settings import *"
   ]
  },
  {
   "cell_type": "code",
   "execution_count": null,
   "metadata": {},
   "outputs": [],
   "source": [
    "#==================================================================================================================================================================\n",
    "#                                                                      OPERAZIONI SUL DB\n",
    "#=================================================================================================================================================================="
   ]
  },
  {
   "cell_type": "code",
   "execution_count": null,
   "metadata": {},
   "outputs": [],
   "source": [
    "%run preprocessing"
   ]
  },
  {
   "cell_type": "code",
   "execution_count": null,
   "metadata": {},
   "outputs": [],
   "source": [
    "#==================================================================================================================================================================\n",
    "#                                                            CALCOLO ARRAY CFU   \n",
    "#=================================================================================================================================================================="
   ]
  },
  {
   "cell_type": "code",
   "execution_count": null,
   "metadata": {},
   "outputs": [],
   "source": [
    "cfu = calcolaArrayCFU(df)"
   ]
  },
  {
   "cell_type": "code",
   "execution_count": null,
   "metadata": {},
   "outputs": [],
   "source": [
    "#==================================================================================================================================================================\n",
    "#                                                            SISTEMO DATI TEMPORALI\n",
    "#=================================================================================================================================================================="
   ]
  },
  {
   "cell_type": "code",
   "execution_count": null,
   "metadata": {},
   "outputs": [],
   "source": [
    "sistemaDatiTemporali(df,MESE_RIFERIMENTO)"
   ]
  },
  {
   "cell_type": "code",
   "execution_count": null,
   "metadata": {},
   "outputs": [],
   "source": [
    "#==================================================================================================================================================================\n",
    "#                                                            CREAZIONE MATRICOLE\n",
    "#=================================================================================================================================================================="
   ]
  },
  {
   "cell_type": "code",
   "execution_count": null,
   "metadata": {},
   "outputs": [],
   "source": [
    "#   tolgo colonne inutili\n",
    "df.drop('DATA_SUP',axis=1,inplace=True)\n",
    "df.drop('DATA_FREQ',axis=1,inplace=True)\n",
    "df.drop('DATA_PRIMO_APPELLO',axis=1,inplace=True)\n",
    "df.drop('AA_OFF_ID',axis=1,inplace=True)\n",
    "df.drop('PESO',axis=1,inplace=True)\n",
    "df.drop('DATA_CHIUSURA',axis=1,inplace=True)"
   ]
  },
  {
   "cell_type": "code",
   "execution_count": null,
   "metadata": {},
   "outputs": [],
   "source": [
    "matricole = calcolaMatricole(df)"
   ]
  },
  {
   "cell_type": "code",
   "execution_count": null,
   "metadata": {},
   "outputs": [],
   "source": [
    "#lo utilizzero' per prevedere le iscrizioni al secondo anno\n",
    "matricoleConCodice=[]\n",
    "for elem in matricole:\n",
    "    copia = elem.copy(deep=True)\n",
    "    matricoleConCodice.append(copia)\n"
   ]
  },
  {
   "cell_type": "code",
   "execution_count": null,
   "metadata": {},
   "outputs": [],
   "source": [
    "# ELIMINO LE COLONNE INUTILI E CREO DB PER VISUALIZZARE GLI STUDENTI\n",
    "for elem in matricole:\n",
    "    elem.drop('STU_ID',axis=1,inplace=True)\n",
    "    elem.drop('ULTIMO_TENTATIVO',axis=1,inplace=True)\n",
    "    elem.drop('PRIMO_ANNO',axis=1,inplace=True)\n",
    "\n",
    "#creo dataframe db per la visualizzazione più comoda\n",
    "db = []\n",
    "for elem in matricole:\n",
    "    temp = elem.copy(deep=True)\n",
    "    db.append(temp)\n",
    "\n",
    "for elem in matricole:\n",
    "    elem.drop('DES',axis=1,inplace=True)"
   ]
  },
  {
   "cell_type": "code",
   "execution_count": null,
   "metadata": {},
   "outputs": [],
   "source": [
    "# VISUALIZZO STRUTTURA DATI\n",
    "es = 0\n",
    "print('matricole:')\n",
    "display(matricole[es])    #   stato attuale\n",
    "print('db:')\n",
    "display(db[es])\n",
    "# print('cfu: ')\n",
    "# print(cfu[es])"
   ]
  },
  {
   "cell_type": "code",
   "execution_count": null,
   "metadata": {},
   "outputs": [],
   "source": [
    "#esporto matricole\n",
    "if ESPORTA_DATI:\n",
    "    for i in range(len(matricole)):\n",
    "        nome = 'export/X/' + str(i) + '.csv'\n",
    "        matricole[i].to_csv(nome,index=False)"
   ]
  },
  {
   "cell_type": "code",
   "execution_count": null,
   "metadata": {},
   "outputs": [],
   "source": [
    "#esporto cfu\n",
    "if ESPORTA_DATI:\n",
    "    with open('export/y.txt', 'w') as f:\n",
    "        for elem in cfu:\n",
    "            f.write(str(elem)+'\\n')"
   ]
  },
  {
   "cell_type": "code",
   "execution_count": null,
   "metadata": {},
   "outputs": [],
   "source": [
    "#==================================================================================================================================================================\n",
    "\n",
    "\n",
    "\n",
    "#                                                   CREO X, Y CFU e Y ISCRIZIONE\n",
    "\n",
    "\n",
    "\n",
    "#=================================================================================================================================================================="
   ]
  },
  {
   "cell_type": "code",
   "execution_count": null,
   "metadata": {},
   "outputs": [],
   "source": [
    "X = matricole.copy()\n",
    "#y per modelli di regressione\n",
    "yregr = cfu.copy()\n",
    "\n",
    "print('elementi X: ', len(X))\n",
    "print('elementi y: ', len(yregr))"
   ]
  },
  {
   "cell_type": "code",
   "execution_count": null,
   "metadata": {},
   "outputs": [],
   "source": [
    "#RIDUCO LE POSSIBILI CLASSI DI Y\n",
    "\n",
    "print('CFU ottenuti: ')\n",
    "print(yregr)\n",
    "\n",
    "y=[]\n",
    "\n",
    "for i in range(len(yregr)):\n",
    "    if yregr[i] < CFU_RICHIESTI:\n",
    "        y.append(0)\n",
    "    else:\n",
    "        y.append(1)\n",
    "\n",
    "print('\\ny risultante:')\n",
    "print(y)\n"
   ]
  },
  {
   "cell_type": "code",
   "execution_count": null,
   "metadata": {},
   "outputs": [],
   "source": [
    "#   CONVERSIONE A NUMPY ARRAY X e y\n",
    "\n",
    "#conversione y\n",
    "y = np.array(y)\n",
    "yregr = np.array(yregr)\n",
    "\n",
    "#conversione X\n",
    "temp = [np.array(X[0].to_numpy().flatten())]\n",
    "for i in range(1,len(X)):\n",
    "    temp = np.append(temp,[X[i].to_numpy().flatten()],axis=0)\n",
    "X = temp"
   ]
  },
  {
   "cell_type": "code",
   "execution_count": null,
   "metadata": {},
   "outputs": [],
   "source": [
    "y_cfu = y.copy()"
   ]
  },
  {
   "cell_type": "code",
   "execution_count": null,
   "metadata": {},
   "outputs": [],
   "source": [
    "#calcolo Y iscrizione"
   ]
  },
  {
   "cell_type": "code",
   "execution_count": null,
   "metadata": {},
   "outputs": [],
   "source": [
    "#CARICO I DATI\n",
    "\n",
    "dfOriginale = pd.read_excel('data/Informatica.xlsx')\n",
    "dfOriginale = dfOriginale[colonneUtilizzate]"
   ]
  },
  {
   "cell_type": "code",
   "execution_count": null,
   "metadata": {},
   "outputs": [],
   "source": [
    "matricoleConCodice[0]"
   ]
  },
  {
   "cell_type": "code",
   "execution_count": null,
   "metadata": {},
   "outputs": [],
   "source": [
    "#vado a guardare classificare gli studenti tra attivi al II anno (se provano almeno un esame in tutto l' anno), oppure in inattivi\n",
    "\n",
    "attiviSecondoAnno = []\n",
    "\n",
    "#indica il numero di studenti iscritti all' anno successivo nel 2016,17,18\n",
    "# (lo uso solo per fare analisi sui dati)\n",
    "attiviNegliAnni = [0,0,0]\n",
    "\n",
    "for i in range(len(matricoleConCodice)):\n",
    "\n",
    "    #trovo id studente\n",
    "    idStudente = matricoleConCodice[i].iloc[0,0]\n",
    "    primoAnno = matricoleConCodice[i].iloc[0,4]\n",
    "\n",
    "    attivoSecondoAnno = False\n",
    "    #cerco un esame con l' id dello studente che lo studente ha provato o superato al secondo anno\n",
    "    for j in range(len(dfOriginale)):\n",
    "        if dfOriginale.loc[j,'STU_ID'] == idStudente:\n",
    "\n",
    "            annoMaxAppello = dfOriginale.loc[j,'DATA_MAX_APPELLO']\n",
    "            annoMaxAppello = str(annoMaxAppello)[0:4]\n",
    "            \n",
    "            annoSup = dfOriginale.loc[j,'DATA_SUP']\n",
    "            annoSup = str(annoSup)[0:4]\n",
    "            \n",
    "            annoPrimoApp = dfOriginale.loc[j,'DATA_PRIMO_APPELLO']\n",
    "            annoPrimoApp = str(annoPrimoApp)[0:4]\n",
    "            \n",
    "            if annoMaxAppello == str(primoAnno+1) or annoSup == str(primoAnno+1) or annoPrimoApp == str(primoAnno+1):\n",
    "                attivoSecondoAnno=True\n",
    "    \n",
    "    if attivoSecondoAnno:\n",
    "        attiviSecondoAnno.append(1)\n",
    "        if primoAnno == 2016: attiviNegliAnni[0]+=1\n",
    "        elif primoAnno == 2017: attiviNegliAnni[1]+=1\n",
    "        elif primoAnno == 2018: attiviNegliAnni[2]+=1\n",
    "    else:\n",
    "        attiviSecondoAnno.append(0)\n",
    "    \n",
    "print('studenti attivi nell\\' anno successivo nel:')\n",
    "print('2016: ',attiviNegliAnni[0])\n",
    "print('2017: ',attiviNegliAnni[1])\n",
    "print('2018: ',attiviNegliAnni[2])\n"
   ]
  },
  {
   "cell_type": "code",
   "execution_count": null,
   "metadata": {},
   "outputs": [],
   "source": [
    "print(attiviSecondoAnno)"
   ]
  },
  {
   "cell_type": "code",
   "execution_count": null,
   "metadata": {},
   "outputs": [],
   "source": [
    "# calcolo il nuovo y\n",
    "y_att = attiviSecondoAnno.copy()"
   ]
  },
  {
   "cell_type": "code",
   "execution_count": null,
   "metadata": {},
   "outputs": [],
   "source": [
    "#   CONVERSIONE A NUMPY ARRAY X e y\n",
    "\n",
    "#conversione y\n",
    "y_att = np.array(y_att)"
   ]
  },
  {
   "cell_type": "code",
   "execution_count": null,
   "metadata": {},
   "outputs": [],
   "source": [
    "#==================================================================================================================================================================\n",
    "\n",
    "\n",
    "\n",
    "#                                                   SUDDIVISIONE IN TRAIN E TEST SET\n",
    "\n",
    "\n",
    "\n",
    "#=================================================================================================================================================================="
   ]
  },
  {
   "cell_type": "code",
   "execution_count": null,
   "metadata": {},
   "outputs": [],
   "source": [
    "len(y_cfu)\n",
    "len(y_att)"
   ]
  },
  {
   "cell_type": "code",
   "execution_count": null,
   "metadata": {},
   "outputs": [],
   "source": [
    "X_cfu_train, X_test, y_cfu_train, y_cfu_test = train_test_split(X,y_cfu, train_size=0.75, test_size=0.25,random_state=5)\n",
    "X_att_train, X_test, y_att_train, y_att_test = train_test_split(X,y_att, train_size=0.75, test_size=0.25,random_state=5)\n",
    "#   DIMENSIONI X, y\n",
    "print('dimensioni X: ',X.shape)\n",
    "print('dimensioni y: ',y.shape)\n",
    "\n",
    "print('dimensioni X train 1: ',X_cfu_train.shape)\n",
    "print('dimensioni X train 2: ',X_att_train.shape)\n",
    "\n",
    "print('dimensioni y train 1: ',y_cfu_train.shape)\n",
    "print('dimensioni y train 2: ',y_att_train.shape)\n",
    "\n",
    "print('dimensioni X test: ',X_test.shape)\n",
    "\n",
    "print('dimensioni y test1: ',y_cfu_test.shape)\n",
    "print('dimensioni y test2: ',y_att_test.shape)"
   ]
  },
  {
   "cell_type": "code",
   "execution_count": null,
   "metadata": {},
   "outputs": [],
   "source": [
    "#==================================================================================================================================================================\n",
    "\n",
    "\n",
    "\n",
    "#                                                   BILANCIAMENTO TRAIN SET CFU\n",
    "\n",
    "\n",
    "\n",
    "#=================================================================================================================================================================="
   ]
  },
  {
   "cell_type": "code",
   "execution_count": null,
   "metadata": {},
   "outputs": [],
   "source": [
    "somma1 = 0\n",
    "somma0 = 0\n",
    "for elem in y_cfu_train:\n",
    "    if elem == 1: somma1+=1\n",
    "    else: somma0 +=1\n",
    "\n",
    "perc0 = round(somma0/len(y_cfu_train)*100,2)\n",
    "perc1 = round((100 - perc0),2)\n",
    "print('studenti con < 40 cfu: ',somma0)\n",
    "print('studenti con >= 40 cfu: ',somma1)\n",
    "\n",
    "# Pie chart, where the slices will be ordered and plotted counter-clockwise:\n",
    "labels = 'CFU < 40\\n'+str(somma0)+'('+str(perc0)+'%)', 'CFU >= 40\\n'+str(somma1)+'('+str(perc1)+'%)'\n",
    "sizes = [somma0, somma1]\n",
    "\n",
    "fig1, ax1 = plt.subplots()\n",
    "ax1.pie(sizes, labels=labels,startangle=90,colors=[ROSSO,VERDE],wedgeprops={\"edgecolor\":\"k\",'linewidth': 2,'antialiased': True},textprops={'fontsize': 20})\n",
    "# ax1.pie(sizes,startangle=90,colors=[ROSSO,VERDE],wedgeprops={\"edgecolor\":\"k\",'linewidth': 2,'antialiased': True},textprops={'fontsize': 20})\n",
    "ax1.axis('equal')  # Equal aspect ratio ensures that pie is drawn as a circle.\n",
    "\n",
    "plt.savefig('generatedImages/sbilanciamentoDataset1.png', dpi=300,bbox_inches='tight',facecolor='w')\n",
    "plt.show()\n"
   ]
  },
  {
   "cell_type": "code",
   "execution_count": null,
   "metadata": {},
   "outputs": [],
   "source": [
    "# oversampling\n",
    "\n",
    "from imblearn.over_sampling import SMOTE\n",
    "\n",
    "smote = SMOTE(sampling_strategy='minority')\n",
    "X_sm, y_sm = smote.fit_resample(X_cfu_train,y_cfu_train)\n",
    "X_cfu_train = X_sm\n",
    "y_cfu_train = y_sm"
   ]
  },
  {
   "cell_type": "code",
   "execution_count": null,
   "metadata": {},
   "outputs": [],
   "source": [
    "somma1 = 0\n",
    "somma0 = 0\n",
    "for elem in y_cfu_train:\n",
    "    if elem == 1: somma1+=1\n",
    "    else: somma0 +=1\n",
    "\n",
    "perc0 = round(somma0/len(y_cfu_train)*100,2)\n",
    "perc1 = round((100 - perc0),2)\n",
    "print('studenti con < 40 cfu: ',somma0)\n",
    "print('studenti con >= 40 cfu: ',somma1)\n",
    "\n",
    "# Pie chart, where the slices will be ordered and plotted counter-clockwise:\n",
    "labels = 'CFU < 40\\n'+str(somma0)+'('+str(perc0)+'%)', 'CFU >= 40\\n'+str(somma1)+'('+str(perc1)+'%)'\n",
    "sizes = [somma0, somma1]\n",
    "\n",
    "fig1, ax1 = plt.subplots()\n",
    "ax1.pie(sizes, labels=labels,startangle=90,colors=[ROSSO,VERDE],wedgeprops={\"edgecolor\":\"k\",'linewidth': 2,'antialiased': True},textprops={'fontsize': 20})\n",
    "# ax1.pie(sizes,startangle=90,colors=[ROSSO,VERDE],wedgeprops={\"edgecolor\":\"k\",'linewidth': 2,'antialiased': True},textprops={'fontsize': 20})\n",
    "ax1.axis('equal')  # Equal aspect ratio ensures that pie is drawn as a circle.\n",
    "\n",
    "plt.savefig('generatedImages/sbilanciamentoDataset1.png', dpi=300,bbox_inches='tight',facecolor='w')\n",
    "plt.show()\n"
   ]
  },
  {
   "cell_type": "code",
   "execution_count": null,
   "metadata": {},
   "outputs": [],
   "source": [
    "#==================================================================================================================================================================\n",
    "\n",
    "\n",
    "\n",
    "#                                                   BILANCIAMENTO TRAIN SET ATTIVITÀ\n",
    "\n",
    "\n",
    "\n",
    "#=================================================================================================================================================================="
   ]
  },
  {
   "cell_type": "code",
   "execution_count": null,
   "metadata": {},
   "outputs": [],
   "source": [
    "somma1 = 0\n",
    "somma0 = 0\n",
    "for elem in y_att_train:\n",
    "    if elem == 1: somma1+=1\n",
    "    else: somma0 +=1\n",
    "\n",
    "perc0 = round(somma0/len(y_att_train)*100,2)\n",
    "perc1 = round((100 - perc0),2)\n",
    "print('studenti non iscritti II anno',somma0)\n",
    "print('studenti iscritti II anno: ',somma1)\n",
    "\n",
    "# Pie chart, where the slices will be ordered and plotted counter-clockwise:\n",
    "labels = 'Iscritti II anno\\n'+str(somma0)+'('+str(perc0)+'%)', 'Non iscritti II anno\\n'+str(somma1)+'('+str(perc1)+'%)'\n",
    "sizes = [somma0, somma1]\n",
    "\n",
    "fig1, ax1 = plt.subplots()\n",
    "# ax1.pie(sizes, labels=labels,startangle=90,colors=[ROSSO,VERDE],wedgeprops={\"edgecolor\":\"k\",'linewidth': 2,'antialiased': True},textprops={'fontsize': 20})\n",
    "ax1.pie(sizes,startangle=90,colors=[ROSSO,VERDE],wedgeprops={\"edgecolor\":\"k\",'linewidth': 2,'antialiased': True},textprops={'fontsize': 20})\n",
    "ax1.axis('equal')  # Equal aspect ratio ensures that pie is drawn as a circle.\n",
    "\n",
    "plt.savefig('generatedImages/sbilanciamentoDataset2.png', dpi=300,bbox_inches='tight',facecolor='w')\n",
    "plt.show()\n"
   ]
  },
  {
   "cell_type": "code",
   "execution_count": null,
   "metadata": {},
   "outputs": [],
   "source": [
    "# oversampling\n",
    "\n",
    "from imblearn.over_sampling import SMOTE\n",
    "\n",
    "smote = SMOTE(sampling_strategy='minority')\n",
    "X_sm, y_sm = smote.fit_resample(X_att_train,y_att_train)\n",
    "X_att_train = X_sm\n",
    "y_att_train = y_sm"
   ]
  },
  {
   "cell_type": "code",
   "execution_count": null,
   "metadata": {},
   "outputs": [],
   "source": [
    "somma1 = 0\n",
    "somma0 = 0\n",
    "for elem in y_att_train:\n",
    "    if elem == 1: somma1+=1\n",
    "    else: somma0 +=1\n",
    "\n",
    "perc0 = round(somma0/len(y_att_train)*100,2)\n",
    "perc1 = round((100 - perc0),2)\n",
    "print('studenti non iscritti II anno',somma0)\n",
    "print('studenti iscritti II anno: ',somma1)\n",
    "\n",
    "# Pie chart, where the slices will be ordered and plotted counter-clockwise:\n",
    "labels = 'Iscritti II anno\\n'+str(somma0)+'('+str(perc0)+'%)', 'Non iscritti II anno\\n'+str(somma1)+'('+str(perc1)+'%)'\n",
    "sizes = [somma0, somma1]\n",
    "\n",
    "fig1, ax1 = plt.subplots()\n",
    "# ax1.pie(sizes, labels=labels,startangle=90,colors=[ROSSO,VERDE],wedgeprops={\"edgecolor\":\"k\",'linewidth': 2,'antialiased': True},textprops={'fontsize': 20})\n",
    "ax1.pie(sizes,startangle=90,colors=[ROSSO,VERDE],wedgeprops={\"edgecolor\":\"k\",'linewidth': 2,'antialiased': True},textprops={'fontsize': 20})\n",
    "ax1.axis('equal')  # Equal aspect ratio ensures that pie is drawn as a circle.\n",
    "\n",
    "plt.savefig('generatedImages/sbilanciamentoDataset2.png', dpi=300,bbox_inches='tight',facecolor='w')\n",
    "plt.show()\n"
   ]
  },
  {
   "cell_type": "code",
   "execution_count": null,
   "metadata": {},
   "outputs": [],
   "source": [
    "#===================================="
   ]
  },
  {
   "cell_type": "code",
   "execution_count": null,
   "metadata": {},
   "outputs": [],
   "source": [
    "#   DIMENSIONI X, y\n",
    "print('dimensioni X: ',X.shape)\n",
    "print('dimensioni y: ',y.shape)\n",
    "\n",
    "print('dimensioni X train 1: ',X_cfu_train.shape)\n",
    "print('dimensioni X train 2: ',X_att_train.shape)\n",
    "\n",
    "print('dimensioni y train 1: ',y_cfu_train.shape)\n",
    "print('dimensioni y train 2: ',y_att_train.shape)\n",
    "\n",
    "print('dimensioni X test: ',X_test.shape)\n",
    "\n",
    "print('dimensioni y test1: ',y_cfu_test.shape)\n",
    "print('dimensioni y test2: ',y_att_test.shape)"
   ]
  },
  {
   "cell_type": "code",
   "execution_count": null,
   "metadata": {},
   "outputs": [],
   "source": [
    "#==================================================================================================================================================================\n",
    "#                                                             addestramento modelli\n",
    "#=================================================================================================================================================================="
   ]
  },
  {
   "cell_type": "code",
   "execution_count": null,
   "metadata": {},
   "outputs": [],
   "source": [
    "from sklearn.ensemble import GradientBoostingClassifier\n",
    "from sklearn.model_selection import train_test_split\n",
    "from sklearn.naive_bayes import BernoulliNB\n",
    "from sklearn.pipeline import make_pipeline, make_union\n",
    "from tpot.builtins import StackingEstimator\n",
    "from tpot.export_utils import set_param_recursive\n",
    "\n",
    "model1 = make_pipeline(\n",
    "        StackingEstimator(estimator=BernoulliNB(alpha=10.0, fit_prior=True)),\n",
    "        GradientBoostingClassifier(learning_rate=0.1, max_depth=2, max_features=0.1, min_samples_leaf=7, min_samples_split=12, n_estimators=100, subsample=0.5)\n",
    "    )\n",
    "\n",
    "# Fix random state for all the steps in exported pipeline\n",
    "set_param_recursive(model1.steps, 'random_state', 50)\n",
    "\n",
    "model1.fit(X_cfu_train,y_cfu_train)"
   ]
  },
  {
   "cell_type": "code",
   "execution_count": null,
   "metadata": {},
   "outputs": [],
   "source": [
    "import numpy as np\n",
    "import pandas as pd\n",
    "from sklearn.ensemble import GradientBoostingClassifier\n",
    "from sklearn.feature_selection import SelectFwe, f_classif\n",
    "from sklearn.model_selection import train_test_split\n",
    "from sklearn.pipeline import make_pipeline, make_union\n",
    "from sklearn.svm import LinearSVC\n",
    "from tpot.builtins import StackingEstimator\n",
    "\n",
    "model2 = make_pipeline(\n",
    "    SelectFwe(score_func=f_classif, alpha=0.023),\n",
    "    StackingEstimator(estimator=LinearSVC(C=15.0, dual=False, loss=\"squared_hinge\", penalty=\"l1\", tol=0.01)),\n",
    "    GradientBoostingClassifier(learning_rate=0.5, max_depth=8, max_features=0.1, min_samples_leaf=3, min_samples_split=11, n_estimators=100, subsample=0.6500000000000001)\n",
    ")\n",
    "\n",
    "model2.fit(X_att_train,y_att_train)"
   ]
  },
  {
   "cell_type": "code",
   "execution_count": null,
   "metadata": {},
   "outputs": [],
   "source": [
    "#==================================================================================================================================================================\n",
    "#                                                             valutazione accuratezza previsioni\n",
    "#=================================================================================================================================================================="
   ]
  },
  {
   "cell_type": "code",
   "execution_count": null,
   "metadata": {},
   "outputs": [],
   "source": [
    "#previsione cfu\n",
    "prev_cfu = model1.predict(X_test)\n",
    "\n",
    "print(prev_cfu)\n",
    "\n",
    "corrette = 0\n",
    "for corretta , prev in zip(y_cfu_test,prev_cfu):\n",
    "    if corretta == prev : corrette +=1\n",
    "print('corrette: ',corrette,'su ',len(y_cfu_test))"
   ]
  },
  {
   "cell_type": "code",
   "execution_count": null,
   "metadata": {},
   "outputs": [],
   "source": [
    "#previsione iscrizione\n",
    "prev_att = model2.predict(X_test)\n",
    "\n",
    "print(prev_att)\n",
    "\n",
    "corrette = 0\n",
    "for corretta , prev in zip(y_att_test,prev_att):\n",
    "    if corretta == prev : corrette +=1\n",
    "print('corrette: ',corrette,'su ',len(y_att_test))"
   ]
  },
  {
   "cell_type": "code",
   "execution_count": null,
   "metadata": {},
   "outputs": [],
   "source": [
    "#calcolo ic16 effettivo\n",
    "\n",
    "studentiIdonei = 0  #studenti che rispettano i requisiti per contribuire alla percentualle ic16\n",
    "\n",
    "for i in range(len(y_cfu_test)):\n",
    "    # se lo studente ha raggiunto i 40 cfu ed è iscritto al secondo anno lo conto\n",
    "    if y_cfu_test[i]==1 and y_att_test[i]==1:\n",
    "        studentiIdonei +=1\n",
    "\n",
    "ic16 = studentiIdonei / len(y_cfu_test) *100"
   ]
  },
  {
   "cell_type": "code",
   "execution_count": null,
   "metadata": {},
   "outputs": [],
   "source": [
    "#ic16 previsto\n",
    "studentiIdonei = 0  #studenti che rispettano i requisiti per contribuire alla percentualle ic16\n",
    "\n",
    "for i in range(len(prev_cfu)):\n",
    "    # se lo studente ha raggiunto i 40 cfu ed è iscritto al secondo anno lo conto\n",
    "    if prev_cfu[i]==1 and prev_att[i]==1 :\n",
    "        studentiIdonei +=1\n",
    "\n",
    "ic16Prev = studentiIdonei / len(prev_cfu) *100"
   ]
  },
  {
   "cell_type": "code",
   "execution_count": null,
   "metadata": {},
   "outputs": [],
   "source": [
    "print('ic16 effettivo:',round(ic16,2))\n",
    "print('ic16 previsto: ',round(ic16Prev,2))\n",
    "print('errore sulla previsione: ',round(abs(ic16-ic16Prev),2))"
   ]
  },
  {
   "cell_type": "code",
   "execution_count": null,
   "metadata": {},
   "outputs": [],
   "source": [
    "#============================================= \n",
    "#calcolo errore medio\n",
    "#============================================= "
   ]
  },
  {
   "cell_type": "code",
   "execution_count": null,
   "metadata": {},
   "outputs": [],
   "source": [
    "ic16Medio = 0\n",
    "ic16PrevistoMedio = 0\n",
    "erroreMedioPrevisione = 0\n",
    "nloop = 300\n",
    "for i in range(nloop):\n",
    "    print(nloop-i)\n",
    "    #definizione train e test set\n",
    "    X_cfu_train, X_test, y_cfu_train, y_cfu_test = train_test_split(X,y_cfu, train_size=0.75, test_size=0.25,random_state=i)\n",
    "    X_att_train, X_test, y_att_train, y_att_test = train_test_split(X,y_att, train_size=0.75, test_size=0.25,random_state=i)\n",
    "\n",
    "    # oversampling cfu\n",
    "    from imblearn.over_sampling import SMOTE\n",
    "    smote = SMOTE(sampling_strategy='minority')\n",
    "    X_sm, y_sm = smote.fit_resample(X_cfu_train,y_cfu_train)\n",
    "    X_cfu_train = X_sm\n",
    "    y_cfu_train = y_sm\n",
    "\n",
    "    # oversampling attività\n",
    "    smote = SMOTE(sampling_strategy='minority')\n",
    "    X_sm, y_sm = smote.fit_resample(X_att_train,y_att_train)\n",
    "    X_att_train = X_sm\n",
    "    y_att_train = y_sm\n",
    "\n",
    "    #addestramento modelli\n",
    "    model1.fit(X_cfu_train,y_cfu_train)\n",
    "    model2.fit(X_att_train,y_att_train)\n",
    "    \n",
    "    #calcolo previsioni\n",
    "    prev_cfu = model1.predict(X_test)\n",
    "    prev_att = model2.predict(X_test)\n",
    "\n",
    "    # print('prev cfu:')\n",
    "    # print(prev_cfu)\n",
    "    # print('prev att:')\n",
    "    # print(prev_att,'\\n')\n",
    "\n",
    "    #calcolo ic16 effettivo\n",
    "    studentiIdonei = 0  #studenti che rispettano i requisiti per contribuire alla percentualle ic16\n",
    "    for j in range(len(y_cfu_test)):\n",
    "        # se lo studente ha raggiunto i 40 cfu ed è iscritto al secondo anno lo conto\n",
    "        if y_cfu_test[j]==1 and y_att_test[j]==1:\n",
    "            studentiIdonei +=1\n",
    "    ic16 = studentiIdonei / len(y_cfu_test) *100\n",
    "\n",
    "    #ic16 previsto\n",
    "    studentiIdonei = 0  #studenti che rispettano i requisiti per contribuire alla percentualle ic16\n",
    "    for j in range(len(prev_cfu)):\n",
    "        # se lo studente ha raggiunto i 40 cfu ed è iscritto al secondo anno lo conto\n",
    "        if prev_cfu[j]==1 and prev_att[j]==1 :\n",
    "            studentiIdonei +=1\n",
    "    ic16Prev = studentiIdonei / len(prev_cfu) *100\n",
    "    \n",
    "    errore = abs(ic16 - ic16Prev)\n",
    "\n",
    "    ic16Medio += ic16\n",
    "    ic16PrevistoMedio += ic16Prev\n",
    "    erroreMedioPrevisione += errore\n",
    "    \n",
    "    print('nuovo errore: ',errore)\n",
    "    print('errore medio: ',erroreMedioPrevisione/(i+1),'\\n')\n",
    "\n",
    "ic16Medio = round(ic16Medio/nloop,2)\n",
    "ic16PrevistoMedio = round(ic16PrevistoMedio/nloop,2)\n",
    "erroreMedioPrevisione = round(erroreMedioPrevisione/nloop,2)\n",
    "\n",
    "print('ic16 medio: ',ic16Medio)\n",
    "print('ic16 medio previsto: ',ic16PrevistoMedio)\n",
    "print('errore medio sulla previsione: ',erroreMedioPrevisione)"
   ]
  },
  {
   "cell_type": "code",
   "execution_count": null,
   "metadata": {},
   "outputs": [],
   "source": [
    "MESE_RIFERIMENTO"
   ]
  },
  {
   "cell_type": "code",
   "execution_count": null,
   "metadata": {},
   "outputs": [],
   "source": [
    "# errore = [\n",
    "#     9.88,\n",
    "#     4.59,\n",
    "#     4.50,\n",
    "#     4.62,\n",
    "#     4.56,\n",
    "#     4.07,\n",
    "#     3.61,\n",
    "#     3.64,\n",
    "#     2.31,\n",
    "#     2.29,\n",
    "#     1.73,\n",
    "#     1.71,\n",
    "# ]"
   ]
  }
 ],
 "metadata": {
  "interpreter": {
   "hash": "13bf5a2e2f57d04bc926dca3f2f92356a462738c3244a3c0db52bdbeb393fd7e"
  },
  "kernelspec": {
   "display_name": "Python 3.7.11 64-bit ('tensor': conda)",
   "name": "python3"
  },
  "language_info": {
   "codemirror_mode": {
    "name": "ipython",
    "version": 3
   },
   "file_extension": ".py",
   "mimetype": "text/x-python",
   "name": "python",
   "nbconvert_exporter": "python",
   "pygments_lexer": "ipython3",
   "version": "3.7.7"
  },
  "orig_nbformat": 4
 },
 "nbformat": 4,
 "nbformat_minor": 2
}
